{
 "cells": [
  {
   "cell_type": "code",
   "execution_count": 1,
   "metadata": {},
   "outputs": [],
   "source": [
    "import pandas as pd\n",
    "import numpy as np\n",
    "from sklearn.feature_extraction.text import TfidfVectorizer\n",
    "from sklearn.metrics.pairwise import cosine_similarity"
   ]
  },
  {
   "cell_type": "code",
   "execution_count": 2,
   "metadata": {},
   "outputs": [],
   "source": [
    "data = \"IMDB-Movie-Dataset(2023-1951).csv\"\n",
    "movies_df = pd.read_csv(data)"
   ]
  },
  {
   "cell_type": "code",
   "execution_count": 4,
   "metadata": {},
   "outputs": [
    {
     "data": {
      "text/html": [
       "<div>\n",
       "<style scoped>\n",
       "    .dataframe tbody tr th:only-of-type {\n",
       "        vertical-align: middle;\n",
       "    }\n",
       "\n",
       "    .dataframe tbody tr th {\n",
       "        vertical-align: top;\n",
       "    }\n",
       "\n",
       "    .dataframe thead th {\n",
       "        text-align: right;\n",
       "    }\n",
       "</style>\n",
       "<table border=\"1\" class=\"dataframe\">\n",
       "  <thead>\n",
       "    <tr style=\"text-align: right;\">\n",
       "      <th></th>\n",
       "      <th>Unnamed: 0</th>\n",
       "      <th>movie_id</th>\n",
       "      <th>movie_name</th>\n",
       "      <th>year</th>\n",
       "      <th>genre</th>\n",
       "      <th>overview</th>\n",
       "      <th>director</th>\n",
       "      <th>cast</th>\n",
       "    </tr>\n",
       "  </thead>\n",
       "  <tbody>\n",
       "    <tr>\n",
       "      <th>0</th>\n",
       "      <td>0</td>\n",
       "      <td>tt15354916</td>\n",
       "      <td>Jawan</td>\n",
       "      <td>2023</td>\n",
       "      <td>Action, Thriller</td>\n",
       "      <td>A high-octane action thriller which outlines t...</td>\n",
       "      <td>Atlee</td>\n",
       "      <td>Shah Rukh Khan, Nayanthara, Vijay Sethupathi, ...</td>\n",
       "    </tr>\n",
       "    <tr>\n",
       "      <th>1</th>\n",
       "      <td>1</td>\n",
       "      <td>tt15748830</td>\n",
       "      <td>Jaane Jaan</td>\n",
       "      <td>2023</td>\n",
       "      <td>Crime, Drama, Mystery</td>\n",
       "      <td>A single mother and her daughter who commit a ...</td>\n",
       "      <td>Sujoy Ghosh</td>\n",
       "      <td>Kareena Kapoor, Jaideep Ahlawat, Vijay Varma, ...</td>\n",
       "    </tr>\n",
       "    <tr>\n",
       "      <th>2</th>\n",
       "      <td>2</td>\n",
       "      <td>tt11663228</td>\n",
       "      <td>Jailer</td>\n",
       "      <td>2023</td>\n",
       "      <td>Action, Comedy, Crime</td>\n",
       "      <td>A retired jailer goes on a manhunt to find his...</td>\n",
       "      <td>Nelson Dilipkumar</td>\n",
       "      <td>Rajinikanth, Mohanlal, Shivarajkumar, Jackie S...</td>\n",
       "    </tr>\n",
       "    <tr>\n",
       "      <th>3</th>\n",
       "      <td>3</td>\n",
       "      <td>tt14993250</td>\n",
       "      <td>Rocky Aur Rani Kii Prem Kahaani</td>\n",
       "      <td>2023</td>\n",
       "      <td>Comedy, Drama, Family</td>\n",
       "      <td>Flamboyant Punjabi Rocky and intellectual Beng...</td>\n",
       "      <td>Karan Johar</td>\n",
       "      <td>Ranveer Singh, Alia Bhatt, Dharmendra, Shabana...</td>\n",
       "    </tr>\n",
       "    <tr>\n",
       "      <th>4</th>\n",
       "      <td>4</td>\n",
       "      <td>tt15732324</td>\n",
       "      <td>OMG 2</td>\n",
       "      <td>2023</td>\n",
       "      <td>Comedy, Drama</td>\n",
       "      <td>An unhappy civilian asks the court to mandate ...</td>\n",
       "      <td>Amit Rai</td>\n",
       "      <td>Pankaj Tripathi, Akshay Kumar, Yami Gautam, Pa...</td>\n",
       "    </tr>\n",
       "  </tbody>\n",
       "</table>\n",
       "</div>"
      ],
      "text/plain": [
       "   Unnamed: 0    movie_id                       movie_name  year  \\\n",
       "0           0  tt15354916                            Jawan  2023   \n",
       "1           1  tt15748830                       Jaane Jaan  2023   \n",
       "2           2  tt11663228                           Jailer  2023   \n",
       "3           3  tt14993250  Rocky Aur Rani Kii Prem Kahaani  2023   \n",
       "4           4  tt15732324                            OMG 2  2023   \n",
       "\n",
       "                   genre                                           overview  \\\n",
       "0       Action, Thriller  A high-octane action thriller which outlines t...   \n",
       "1  Crime, Drama, Mystery  A single mother and her daughter who commit a ...   \n",
       "2  Action, Comedy, Crime  A retired jailer goes on a manhunt to find his...   \n",
       "3  Comedy, Drama, Family  Flamboyant Punjabi Rocky and intellectual Beng...   \n",
       "4          Comedy, Drama  An unhappy civilian asks the court to mandate ...   \n",
       "\n",
       "            director                                               cast  \n",
       "0              Atlee  Shah Rukh Khan, Nayanthara, Vijay Sethupathi, ...  \n",
       "1        Sujoy Ghosh  Kareena Kapoor, Jaideep Ahlawat, Vijay Varma, ...  \n",
       "2  Nelson Dilipkumar  Rajinikanth, Mohanlal, Shivarajkumar, Jackie S...  \n",
       "3        Karan Johar  Ranveer Singh, Alia Bhatt, Dharmendra, Shabana...  \n",
       "4           Amit Rai  Pankaj Tripathi, Akshay Kumar, Yami Gautam, Pa...  "
      ]
     },
     "execution_count": 4,
     "metadata": {},
     "output_type": "execute_result"
    }
   ],
   "source": [
    "movies_df.head()"
   ]
  },
  {
   "cell_type": "code",
   "execution_count": 5,
   "metadata": {},
   "outputs": [
    {
     "data": {
      "text/plain": [
       "Unnamed: 0     0\n",
       "movie_id       0\n",
       "movie_name     0\n",
       "year          65\n",
       "genre          0\n",
       "overview       0\n",
       "director       0\n",
       "cast           0\n",
       "dtype: int64"
      ]
     },
     "execution_count": 5,
     "metadata": {},
     "output_type": "execute_result"
    }
   ],
   "source": [
    "movies_df.isna().sum()"
   ]
  },
  {
   "cell_type": "code",
   "execution_count": 6,
   "metadata": {},
   "outputs": [],
   "source": [
    "new_df = movies_df[['movie_id','movie_name','overview']]"
   ]
  },
  {
   "cell_type": "code",
   "execution_count": 7,
   "metadata": {},
   "outputs": [
    {
     "data": {
      "text/html": [
       "<div>\n",
       "<style scoped>\n",
       "    .dataframe tbody tr th:only-of-type {\n",
       "        vertical-align: middle;\n",
       "    }\n",
       "\n",
       "    .dataframe tbody tr th {\n",
       "        vertical-align: top;\n",
       "    }\n",
       "\n",
       "    .dataframe thead th {\n",
       "        text-align: right;\n",
       "    }\n",
       "</style>\n",
       "<table border=\"1\" class=\"dataframe\">\n",
       "  <thead>\n",
       "    <tr style=\"text-align: right;\">\n",
       "      <th></th>\n",
       "      <th>movie_id</th>\n",
       "      <th>movie_name</th>\n",
       "      <th>overview</th>\n",
       "    </tr>\n",
       "  </thead>\n",
       "  <tbody>\n",
       "    <tr>\n",
       "      <th>0</th>\n",
       "      <td>tt15354916</td>\n",
       "      <td>Jawan</td>\n",
       "      <td>A high-octane action thriller which outlines t...</td>\n",
       "    </tr>\n",
       "    <tr>\n",
       "      <th>1</th>\n",
       "      <td>tt15748830</td>\n",
       "      <td>Jaane Jaan</td>\n",
       "      <td>A single mother and her daughter who commit a ...</td>\n",
       "    </tr>\n",
       "    <tr>\n",
       "      <th>2</th>\n",
       "      <td>tt11663228</td>\n",
       "      <td>Jailer</td>\n",
       "      <td>A retired jailer goes on a manhunt to find his...</td>\n",
       "    </tr>\n",
       "    <tr>\n",
       "      <th>3</th>\n",
       "      <td>tt14993250</td>\n",
       "      <td>Rocky Aur Rani Kii Prem Kahaani</td>\n",
       "      <td>Flamboyant Punjabi Rocky and intellectual Beng...</td>\n",
       "    </tr>\n",
       "    <tr>\n",
       "      <th>4</th>\n",
       "      <td>tt15732324</td>\n",
       "      <td>OMG 2</td>\n",
       "      <td>An unhappy civilian asks the court to mandate ...</td>\n",
       "    </tr>\n",
       "  </tbody>\n",
       "</table>\n",
       "</div>"
      ],
      "text/plain": [
       "     movie_id                       movie_name  \\\n",
       "0  tt15354916                            Jawan   \n",
       "1  tt15748830                       Jaane Jaan   \n",
       "2  tt11663228                           Jailer   \n",
       "3  tt14993250  Rocky Aur Rani Kii Prem Kahaani   \n",
       "4  tt15732324                            OMG 2   \n",
       "\n",
       "                                            overview  \n",
       "0  A high-octane action thriller which outlines t...  \n",
       "1  A single mother and her daughter who commit a ...  \n",
       "2  A retired jailer goes on a manhunt to find his...  \n",
       "3  Flamboyant Punjabi Rocky and intellectual Beng...  \n",
       "4  An unhappy civilian asks the court to mandate ...  "
      ]
     },
     "execution_count": 7,
     "metadata": {},
     "output_type": "execute_result"
    }
   ],
   "source": [
    "new_df.head()"
   ]
  },
  {
   "cell_type": "code",
   "execution_count": 8,
   "metadata": {},
   "outputs": [
    {
     "name": "stderr",
     "output_type": "stream",
     "text": [
      "C:\\Users\\KIIT\\AppData\\Local\\Temp\\ipykernel_4408\\4207330934.py:1: SettingWithCopyWarning: \n",
      "A value is trying to be set on a copy of a slice from a DataFrame.\n",
      "Try using .loc[row_indexer,col_indexer] = value instead\n",
      "\n",
      "See the caveats in the documentation: https://pandas.pydata.org/pandas-docs/stable/user_guide/indexing.html#returning-a-view-versus-a-copy\n",
      "  new_df['overview'] = new_df['overview'].apply(lambda x:x.lower())\n"
     ]
    }
   ],
   "source": [
    "new_df['overview'] = new_df['overview'].apply(lambda x:x.lower())"
   ]
  },
  {
   "cell_type": "code",
   "execution_count": 9,
   "metadata": {},
   "outputs": [
    {
     "data": {
      "text/html": [
       "<div>\n",
       "<style scoped>\n",
       "    .dataframe tbody tr th:only-of-type {\n",
       "        vertical-align: middle;\n",
       "    }\n",
       "\n",
       "    .dataframe tbody tr th {\n",
       "        vertical-align: top;\n",
       "    }\n",
       "\n",
       "    .dataframe thead th {\n",
       "        text-align: right;\n",
       "    }\n",
       "</style>\n",
       "<table border=\"1\" class=\"dataframe\">\n",
       "  <thead>\n",
       "    <tr style=\"text-align: right;\">\n",
       "      <th></th>\n",
       "      <th>movie_id</th>\n",
       "      <th>movie_name</th>\n",
       "      <th>overview</th>\n",
       "    </tr>\n",
       "  </thead>\n",
       "  <tbody>\n",
       "    <tr>\n",
       "      <th>0</th>\n",
       "      <td>tt15354916</td>\n",
       "      <td>Jawan</td>\n",
       "      <td>a high-octane action thriller which outlines t...</td>\n",
       "    </tr>\n",
       "    <tr>\n",
       "      <th>1</th>\n",
       "      <td>tt15748830</td>\n",
       "      <td>Jaane Jaan</td>\n",
       "      <td>a single mother and her daughter who commit a ...</td>\n",
       "    </tr>\n",
       "    <tr>\n",
       "      <th>2</th>\n",
       "      <td>tt11663228</td>\n",
       "      <td>Jailer</td>\n",
       "      <td>a retired jailer goes on a manhunt to find his...</td>\n",
       "    </tr>\n",
       "    <tr>\n",
       "      <th>3</th>\n",
       "      <td>tt14993250</td>\n",
       "      <td>Rocky Aur Rani Kii Prem Kahaani</td>\n",
       "      <td>flamboyant punjabi rocky and intellectual beng...</td>\n",
       "    </tr>\n",
       "    <tr>\n",
       "      <th>4</th>\n",
       "      <td>tt15732324</td>\n",
       "      <td>OMG 2</td>\n",
       "      <td>an unhappy civilian asks the court to mandate ...</td>\n",
       "    </tr>\n",
       "  </tbody>\n",
       "</table>\n",
       "</div>"
      ],
      "text/plain": [
       "     movie_id                       movie_name  \\\n",
       "0  tt15354916                            Jawan   \n",
       "1  tt15748830                       Jaane Jaan   \n",
       "2  tt11663228                           Jailer   \n",
       "3  tt14993250  Rocky Aur Rani Kii Prem Kahaani   \n",
       "4  tt15732324                            OMG 2   \n",
       "\n",
       "                                            overview  \n",
       "0  a high-octane action thriller which outlines t...  \n",
       "1  a single mother and her daughter who commit a ...  \n",
       "2  a retired jailer goes on a manhunt to find his...  \n",
       "3  flamboyant punjabi rocky and intellectual beng...  \n",
       "4  an unhappy civilian asks the court to mandate ...  "
      ]
     },
     "execution_count": 9,
     "metadata": {},
     "output_type": "execute_result"
    }
   ],
   "source": [
    "new_df.head()"
   ]
  },
  {
   "cell_type": "code",
   "execution_count": 10,
   "metadata": {},
   "outputs": [],
   "source": [
    "# Vectorization of movie overviews\n",
    "vectorizer = TfidfVectorizer(stop_words='english')\n",
    "tfidf_matrix = vectorizer.fit_transform(new_df['overview'])\n",
    "\n",
    "# Compute cosine similarity matrix\n",
    "cosine_sim = cosine_similarity(tfidf_matrix, tfidf_matrix)\n"
   ]
  },
  {
   "cell_type": "code",
   "execution_count": 17,
   "metadata": {},
   "outputs": [],
   "source": [
    "import requests\n"
   ]
  },
  {
   "cell_type": "code",
   "execution_count": 33,
   "metadata": {},
   "outputs": [],
   "source": [
    "def fetch_poster(movie_id):\n",
    "      API_KEY = \"ff2de638f2d96a0291a0f19086da8839\"  # Replace with your actual TMDb API key\n",
    "      url = f\"https://api.themoviedb.org/3/movie/{movie_id}/images?api_key={API_KEY}\"\n",
    "      response = requests.get(url)\n",
    "      data = response.json()\n",
    "      posters = data.get(\"posters\")\n",
    "      if posters:\n",
    "          poster_path = posters[0].get(\"file_path\")\n",
    "          full_poster_url = f\"https://image.tmdb.org/t/p/w500{poster_path}\"\n",
    "          return full_poster_url\n",
    "      else:\n",
    "          # Use a generic placeholder image\n",
    "          return \"https://via.placeholder.com/300x450?text=No+Image\""
   ]
  },
  {
   "cell_type": "code",
   "execution_count": null,
   "metadata": {},
   "outputs": [],
   "source": [
    "def recommend_movies(movie_name, n=5):\n",
    "    idx = new_df[new_df['movie_name'].str.lower() == movie_name.lower()].index\n",
    "    if len(idx) == 0:\n",
    "        return \"Movie not found. Please try another title.\"\n",
    "\n",
    "    idx = idx[0]\n",
    "    scores = list(enumerate(cosine_sim[idx]))\n",
    "    scores = sorted(scores, key=lambda x: x[1], reverse=True)[1:n+1]\n",
    "\n",
    "    recommendations = []\n",
    "    for i, _ in scores:\n",
    "        movie = new_df.iloc[i]\n",
    "        recommendations.append((movie['movie_name'], movie['movie_id']))\n",
    "\n",
    "    return recommendations\n"
   ]
  },
  {
   "cell_type": "code",
   "execution_count": 35,
   "metadata": {},
   "outputs": [
    {
     "name": "stdout",
     "output_type": "stream",
     "text": [
      "Title: Anek\n",
      "Poster URL: https://image.tmdb.org/t/p/w500/fMmCbD5sUF1If2C6BzHCgT7LY32.jpg\n",
      "\n",
      "Title: Lost\n",
      "Poster URL: https://image.tmdb.org/t/p/w500/yRQkH26GZ7Qp9xkAMfmVNnkb1Ez.jpg\n",
      "\n",
      "Title: Satya 2\n",
      "Poster URL: https://image.tmdb.org/t/p/w500/eBwOhSMYvqQHvPpjvkHbXQ1ZDRs.jpg\n",
      "\n",
      "Title: Untitled SRK-Suhana-Marflix movie\n",
      "Poster URL: https://via.placeholder.com/300x450?text=No+Image\n",
      "\n",
      "Title: Chalk N Duster\n",
      "Poster URL: https://image.tmdb.org/t/p/w500/ry5Vs8Zjh2yWQ1NSODpDxLfI7ok.jpg\n",
      "\n"
     ]
    }
   ],
   "source": [
    "# Example usage\n",
    "movie_name = \"Jawan\"  # Replace with any Bollywood movie title\n",
    "recommended_movies = recommend_movies(movie_name)\n",
    "\n",
    "if isinstance(recommended_movies, str):\n",
    "    print(recommended_movies)\n",
    "else:\n",
    "    for title, imdb_id in recommended_movies:\n",
    "        print(f\"Title: {title}\")\n",
    "        print(f\"Poster URL: {fetch_poster(imdb_id)}\\n\")\n"
   ]
  },
  {
   "cell_type": "code",
   "execution_count": null,
   "metadata": {},
   "outputs": [],
   "source": []
  }
 ],
 "metadata": {
  "kernelspec": {
   "display_name": "base",
   "language": "python",
   "name": "python3"
  },
  "language_info": {
   "codemirror_mode": {
    "name": "ipython",
    "version": 3
   },
   "file_extension": ".py",
   "mimetype": "text/x-python",
   "name": "python",
   "nbconvert_exporter": "python",
   "pygments_lexer": "ipython3",
   "version": "3.11.7"
  }
 },
 "nbformat": 4,
 "nbformat_minor": 2
}
